{
 "cells": [
  {
   "cell_type": "code",
   "execution_count": 1,
   "metadata": {},
   "outputs": [],
   "source": [
    "from sklearn.tree import DecisionTreeClassifier\n",
    "from sklearn.model_selection import train_test_split\n",
    "import pandas as pd\n",
    "from sklearn.metrics import accuracy_score\n",
    "import sklearn\n",
    "import numpy as np\n",
    "import matplotlib.pyplot as plt\n",
    "%matplotlib inline\n",
    "\n",
    "df2018 = pd.read_csv('normalization_zscore_2005_2018_result.csv')\n",
    "df2019 = pd.read_csv('normalization_zscore_2019_only_result.csv')\n",
    "# 이상치 제거 df = df[df['123'].between(-2,2)]"
   ]
  },
  {
   "cell_type": "code",
   "execution_count": 3,
   "metadata": {},
   "outputs": [],
   "source": [
    "df = pd.concat([df2018, df2019])"
   ]
  },
  {
   "cell_type": "code",
   "execution_count": 4,
   "metadata": {
    "scrolled": true
   },
   "outputs": [
    {
     "data": {
      "text/plain": [
       "3    194564\n",
       "1    121534\n",
       "2     11003\n",
       "4     10785\n",
       "0      6159\n",
       "Name: 상태, dtype: int64"
      ]
     },
     "execution_count": 4,
     "metadata": {},
     "output_type": "execute_result"
    }
   ],
   "source": [
    "df['상태'].value_counts()\n",
    "# 3: 가입, 1: 해약, 4: 만기, 2: 행사, 0: 만기_해약"
   ]
  },
  {
   "cell_type": "code",
   "execution_count": 5,
   "metadata": {},
   "outputs": [],
   "source": [
    "# 학습할 2005 ~ 2018년 데이터를 언더샘플링\n",
    "df18_0 = df[df['상태']==0].sample(n=6000)\n",
    "df18_1 = df[df['상태']==1].sample(n=6000)\n",
    "df18_2 = df[df['상태']==2].sample(n=6000)\n",
    "df18_3 = df[df['상태']==3].sample(n=6000)\n",
    "df18_4 = df[df['상태']==4].sample(n=6000)"
   ]
  },
  {
   "cell_type": "code",
   "execution_count": 6,
   "metadata": {},
   "outputs": [
    {
     "data": {
      "text/html": [
       "<div>\n",
       "<style scoped>\n",
       "    .dataframe tbody tr th:only-of-type {\n",
       "        vertical-align: middle;\n",
       "    }\n",
       "\n",
       "    .dataframe tbody tr th {\n",
       "        vertical-align: top;\n",
       "    }\n",
       "\n",
       "    .dataframe thead th {\n",
       "        text-align: right;\n",
       "    }\n",
       "</style>\n",
       "<table border=\"1\" class=\"dataframe\">\n",
       "  <thead>\n",
       "    <tr style=\"text-align: right;\">\n",
       "      <th></th>\n",
       "      <th>이름번호</th>\n",
       "      <th>성별</th>\n",
       "      <th>나이</th>\n",
       "      <th>진행률</th>\n",
       "      <th>상품금액</th>\n",
       "      <th>잔여금액</th>\n",
       "      <th>연체횟수</th>\n",
       "      <th>가입기간</th>\n",
       "      <th>최종불입일자</th>\n",
       "      <th>상태</th>\n",
       "    </tr>\n",
       "  </thead>\n",
       "  <tbody>\n",
       "    <tr>\n",
       "      <th>27254</th>\n",
       "      <td>류제상620529</td>\n",
       "      <td>0</td>\n",
       "      <td>0.183470</td>\n",
       "      <td>1.0</td>\n",
       "      <td>-1.233702</td>\n",
       "      <td>-2.875303</td>\n",
       "      <td>-0.718028</td>\n",
       "      <td>2.142098</td>\n",
       "      <td>16440 days 00:00:00.000000000</td>\n",
       "      <td>0</td>\n",
       "    </tr>\n",
       "    <tr>\n",
       "      <th>14350</th>\n",
       "      <td>최정자490228</td>\n",
       "      <td>1</td>\n",
       "      <td>1.090761</td>\n",
       "      <td>1.0</td>\n",
       "      <td>-1.233702</td>\n",
       "      <td>-2.875303</td>\n",
       "      <td>-0.718028</td>\n",
       "      <td>2.136932</td>\n",
       "      <td>16514 days 00:00:00.000000000</td>\n",
       "      <td>0</td>\n",
       "    </tr>\n",
       "    <tr>\n",
       "      <th>31957</th>\n",
       "      <td>제형근551213</td>\n",
       "      <td>0</td>\n",
       "      <td>0.672011</td>\n",
       "      <td>1.0</td>\n",
       "      <td>-1.233702</td>\n",
       "      <td>-2.875303</td>\n",
       "      <td>-0.718028</td>\n",
       "      <td>2.124535</td>\n",
       "      <td>17343 days 00:00:00.000000000</td>\n",
       "      <td>0</td>\n",
       "    </tr>\n",
       "    <tr>\n",
       "      <th>24994</th>\n",
       "      <td>김효경660904</td>\n",
       "      <td>1</td>\n",
       "      <td>-0.095696</td>\n",
       "      <td>1.0</td>\n",
       "      <td>-1.233702</td>\n",
       "      <td>-2.875303</td>\n",
       "      <td>-0.718028</td>\n",
       "      <td>2.134866</td>\n",
       "      <td>16463 days 00:00:00.000000000</td>\n",
       "      <td>0</td>\n",
       "    </tr>\n",
       "    <tr>\n",
       "      <th>30789</th>\n",
       "      <td>박경화751210</td>\n",
       "      <td>1</td>\n",
       "      <td>-0.723820</td>\n",
       "      <td>1.0</td>\n",
       "      <td>-1.233702</td>\n",
       "      <td>-2.875303</td>\n",
       "      <td>-0.718028</td>\n",
       "      <td>2.126601</td>\n",
       "      <td>16476 days 00:00:00.000000000</td>\n",
       "      <td>0</td>\n",
       "    </tr>\n",
       "  </tbody>\n",
       "</table>\n",
       "</div>"
      ],
      "text/plain": [
       "            이름번호  성별        나이  진행률      상품금액      잔여금액      연체횟수      가입기간  \\\n",
       "27254  류제상620529   0  0.183470  1.0 -1.233702 -2.875303 -0.718028  2.142098   \n",
       "14350  최정자490228   1  1.090761  1.0 -1.233702 -2.875303 -0.718028  2.136932   \n",
       "31957  제형근551213   0  0.672011  1.0 -1.233702 -2.875303 -0.718028  2.124535   \n",
       "24994  김효경660904   1 -0.095696  1.0 -1.233702 -2.875303 -0.718028  2.134866   \n",
       "30789  박경화751210   1 -0.723820  1.0 -1.233702 -2.875303 -0.718028  2.126601   \n",
       "\n",
       "                              최종불입일자  상태  \n",
       "27254  16440 days 00:00:00.000000000   0  \n",
       "14350  16514 days 00:00:00.000000000   0  \n",
       "31957  17343 days 00:00:00.000000000   0  \n",
       "24994  16463 days 00:00:00.000000000   0  \n",
       "30789  16476 days 00:00:00.000000000   0  "
      ]
     },
     "execution_count": 6,
     "metadata": {},
     "output_type": "execute_result"
    }
   ],
   "source": [
    "# 샘플링한 데이터 합침\n",
    "df2018_1st = pd.concat([df18_0, df18_1, df18_2, df18_3, df18_4])\n",
    "df2018_1st.head(5)"
   ]
  },
  {
   "cell_type": "code",
   "execution_count": 7,
   "metadata": {},
   "outputs": [
    {
     "data": {
      "text/plain": [
       "(30000, 10)"
      ]
     },
     "execution_count": 7,
     "metadata": {},
     "output_type": "execute_result"
    }
   ],
   "source": [
    "df2018_1st.shape"
   ]
  },
  {
   "cell_type": "code",
   "execution_count": 8,
   "metadata": {},
   "outputs": [
    {
     "data": {
      "text/plain": [
       "4    6000\n",
       "3    6000\n",
       "2    6000\n",
       "1    6000\n",
       "0    6000\n",
       "Name: 상태, dtype: int64"
      ]
     },
     "execution_count": 8,
     "metadata": {},
     "output_type": "execute_result"
    }
   ],
   "source": [
    "df2018_1st['상태'].value_counts()"
   ]
  },
  {
   "cell_type": "code",
   "execution_count": 23,
   "metadata": {},
   "outputs": [],
   "source": [
    "df2018_1st.to_csv('./randomForest/under_sampling_6000_1st.csv')\n",
    "df2018_2nd.to_csv('./randomForest/under_sampling_6000_2nd.csv')\n",
    "df2018_3rd.to_csv('./randomForest/under_sampling_6000_3rd.csv')\n",
    "df2018_4th.to_csv('./randomForest/under_sampling_6000_4th.csv')\n",
    "df2018_5th.to_csv('./randomForest/under_sampling_6000_5th.csv')\n",
    "df2018_6th.to_csv('./randomForest/under_sampling_6000_6th.csv')\n",
    "df2018_7th.to_csv('./randomForest/under_sampling_6000_7th.csv')\n",
    "df2018_8th.to_csv('./randomForest/under_sampling_6000_8th.csv')\n",
    "df2018_9th.to_csv('./randomForest/under_sampling_6000_9th.csv')\n",
    "df2018_10th.to_csv('./randomForest/under_sampling_6000_10th.csv')"
   ]
  },
  {
   "cell_type": "code",
   "execution_count": 9,
   "metadata": {},
   "outputs": [],
   "source": [
    "from sklearn.metrics import accuracy_score, precision_score , recall_score , confusion_matrix\n",
    "from sklearn.metrics import f1_score \n",
    "\n",
    "# accuracy, precision, recall, f1 스코어를 구하기 위한 함수\n",
    "def get_clf_eval(y_test , pred):\n",
    "    confusion = confusion_matrix( y_test, pred)\n",
    "    accuracy = accuracy_score(y_test , pred)\n",
    "    precision = precision_score(y_test , pred,average='macro')\n",
    "    recall = recall_score(y_test , pred, average='macro')\n",
    "    # F1 스코어 추가\n",
    "    f1 = f1_score(y_test,pred, average='macro')\n",
    "    print('오차 행렬')\n",
    "    print(confusion)\n",
    "    # f1 score print 추가\n",
    "    print('정확도: {0:.4f}, 정밀도: {1:.4f}, 재현율: {2:.4f}, F1:{3:.4f}'.format(accuracy, precision, recall, f1))"
   ]
  },
  {
   "cell_type": "code",
   "execution_count": 11,
   "metadata": {},
   "outputs": [
    {
     "name": "stderr",
     "output_type": "stream",
     "text": [
      "D:\\Project\\Django\\lib\\site-packages\\ipykernel_launcher.py:4: UserWarning: Pandas doesn't allow columns to be created via a new attribute name - see https://pandas.pydata.org/pandas-docs/stable/indexing.html#attribute-access\n",
      "  after removing the cwd from sys.path.\n",
      "D:\\Project\\Django\\lib\\site-packages\\ipykernel_launcher.py:5: UserWarning: Pandas doesn't allow columns to be created via a new attribute name - see https://pandas.pydata.org/pandas-docs/stable/indexing.html#attribute-access\n",
      "  \"\"\"\n",
      "D:\\Project\\Django\\lib\\site-packages\\ipykernel_launcher.py:7: UserWarning: Pandas doesn't allow columns to be created via a new attribute name - see https://pandas.pydata.org/pandas-docs/stable/indexing.html#attribute-access\n",
      "  import sys\n",
      "D:\\Project\\Django\\lib\\site-packages\\ipykernel_launcher.py:8: UserWarning: Pandas doesn't allow columns to be created via a new attribute name - see https://pandas.pydata.org/pandas-docs/stable/indexing.html#attribute-access\n",
      "  \n",
      "D:\\Project\\Django\\lib\\site-packages\\ipykernel_launcher.py:15: DataConversionWarning: A column-vector y was passed when a 1d array was expected. Please change the shape of y to (n_samples,), for example using ravel().\n",
      "  from ipykernel import kernelapp as app\n"
     ]
    },
    {
     "name": "stdout",
     "output_type": "stream",
     "text": [
      "# 1번째 랜덤 포레스트 정확도: 0.9428\n",
      "오차 행렬\n",
      "[[1189    0    2    0    0]\n",
      " [   0 1198    0   40    0]\n",
      " [  18    0  992    1  167]\n",
      " [   9   40    0 1096    0]\n",
      " [   0    0   66    0 1182]]\n",
      "정확도: 0.9428, 정밀도: 0.9443, 재현율: 0.9425, F1:0.9426\n"
     ]
    }
   ],
   "source": [
    "from sklearn.ensemble import RandomForestClassifier\n",
    "\n",
    "rf = df2018_1st[['성별', '나이', '진행률', '상품금액', '잔여금액', '연체횟수', '가입기간']]\n",
    "rf.data = rf.values.tolist()\n",
    "rf.target = df2018_1st[['상태']]\n",
    "\n",
    "rf.feature_names=['sex','age','process_rate','price','remaining_price','overdue_num','period']\n",
    "rf.target_names=['contract','cancellation']\n",
    "rf.head(3)\n",
    "\n",
    "# 테스트데이터와 학습데이터를 2:8 비율로 나눠서 학습 진행\n",
    "X_train , X_test , y_train , y_test = train_test_split(rf.data, rf.target, test_size=0.2,  random_state=32)\n",
    "\n",
    "rnd_clf = RandomForestClassifier(n_estimators=250, max_depth=9 , n_jobs=-1, random_state=32)\n",
    "rnd_clf.fit(X_train, y_train)\n",
    "y_pred_rf = rnd_clf.predict(X_test)\n",
    "\n",
    "accuracy = accuracy_score(y_test , y_pred_rf)\n",
    "print('# 1번째 랜덤 포레스트 정확도: {0:.4f}'.format(accuracy))\n",
    "\n",
    "get_clf_eval(y_test, y_pred_rf)"
   ]
  },
  {
   "cell_type": "code",
   "execution_count": 12,
   "metadata": {},
   "outputs": [
    {
     "name": "stderr",
     "output_type": "stream",
     "text": [
      "findfont: Font family ['NanumBarunGothic'] not found. Falling back to DejaVu Sans.\n",
      "findfont: Font family ['NanumBarunGothic'] not found. Falling back to DejaVu Sans.\n"
     ]
    },
    {
     "data": {
      "image/png": "[encoded data removed]",
      "text/plain": [
       "<Figure size 576x432 with 1 Axes>"
      ]
     },
     "metadata": {
      "needs_background": "light"
     },
     "output_type": "display_data"
    }
   ],
   "source": [
    "import seaborn as sns\n",
    "ftr_importances_values = rnd_clf.feature_importances_\n",
    "ftr_importances = pd.Series(ftr_importances_values,index=rf.feature_names)\n",
    "ftr_top20 = ftr_importances.sort_values(ascending=False)[:8]\n",
    "\n",
    "plt.figure(figsize=(8,6))\n",
    "plt.title('RandomForest Classifier Feature Weight')\n",
    "sns.barplot(x=ftr_top20 , y = ftr_top20.index)\n",
    "plt.show()"
   ]
  },
  {
   "cell_type": "code",
   "execution_count": 14,
   "metadata": {},
   "outputs": [
    {
     "name": "stdout",
     "output_type": "stream",
     "text": [
      "sex : 0.001\n",
      "age : 0.013\n",
      "process_rate : 0.172\n",
      "price : 0.081\n",
      "remaining_price : 0.333\n",
      "overdue_num : 0.203\n",
      "period : 0.199\n"
     ]
    },
    {
     "data": {
      "text/plain": [
       "<matplotlib.axes._subplots.AxesSubplot at 0x2281f394708>"
      ]
     },
     "execution_count": 14,
     "metadata": {},
     "output_type": "execute_result"
    },
    {
     "data": {
      "image/png": "[encoded data removed]",
      "text/plain": [
       "<Figure size 432x288 with 1 Axes>"
      ]
     },
     "metadata": {
      "needs_background": "light"
     },
     "output_type": "display_data"
    }
   ],
   "source": [
    "for name, value in zip(rf.feature_names , rnd_clf.feature_importances_):\n",
    "    print('{0} : {1:.3f}'.format(name, value))\n",
    "\n",
    "# feature importance를 column 별로 시각화 하기 \n",
    "sns.barplot(x=ftr_importances_values , y=rf.feature_names)"
   ]
  }
 ],
 "metadata": {
  "kernelspec": {
   "display_name": "Python 3.7.6 64-bit",
   "language": "python",
   "name": "python37664bita0d197446af548d297078fa389966929"
  },
  "language_info": {
   "codemirror_mode": {
    "name": "ipython",
    "version": 3
   },
   "file_extension": ".py",
   "mimetype": "text/x-python",
   "name": "python",
   "nbconvert_exporter": "python",
   "pygments_lexer": "ipython3",
   "version": "3.7.6"
  }
 },
 "nbformat": 4,
 "nbformat_minor": 4
}
