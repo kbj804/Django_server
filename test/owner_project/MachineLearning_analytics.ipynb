{
 "cells": [
  {
   "cell_type": "code",
   "execution_count": 1,
   "metadata": {},
   "outputs": [],
   "source": [
    "from sklearn.tree import DecisionTreeClassifier\n",
    "from sklearn.model_selection import train_test_split\n",
    "import pandas as pd\n",
    "from sklearn.metrics import accuracy_score\n",
    "import sklearn\n",
    "import numpy as np\n",
    "import matplotlib.pyplot as plt\n",
    "%matplotlib inline"
   ]
  },
  {
   "cell_type": "code",
   "execution_count": 2,
   "metadata": {},
   "outputs": [
    {
     "data": {
      "text/html": [
       "<div>\n",
       "<style scoped>\n",
       "    .dataframe tbody tr th:only-of-type {\n",
       "        vertical-align: middle;\n",
       "    }\n",
       "\n",
       "    .dataframe tbody tr th {\n",
       "        vertical-align: top;\n",
       "    }\n",
       "\n",
       "    .dataframe thead th {\n",
       "        text-align: right;\n",
       "    }\n",
       "</style>\n",
       "<table border=\"1\" class=\"dataframe\">\n",
       "  <thead>\n",
       "    <tr style=\"text-align: right;\">\n",
       "      <th></th>\n",
       "      <th>Unnamed: 0</th>\n",
       "      <th>회원번호</th>\n",
       "      <th>회원이름</th>\n",
       "      <th>주소</th>\n",
       "      <th>상품금액</th>\n",
       "      <th>총불입액</th>\n",
       "      <th>해약금액</th>\n",
       "      <th>담당자</th>\n",
       "      <th>연체횟수</th>\n",
       "      <th>성별</th>\n",
       "      <th>나이</th>\n",
       "      <th>진행률</th>\n",
       "      <th>상태</th>\n",
       "    </tr>\n",
       "  </thead>\n",
       "  <tbody>\n",
       "    <tr>\n",
       "      <th>0</th>\n",
       "      <td>0</td>\n",
       "      <td>0022A00001</td>\n",
       "      <td>이옥성590318</td>\n",
       "      <td>경기</td>\n",
       "      <td>0.208283</td>\n",
       "      <td>0.491725</td>\n",
       "      <td>0.501548</td>\n",
       "      <td>더피플라이프</td>\n",
       "      <td>0.008333</td>\n",
       "      <td>0</td>\n",
       "      <td>0.404040</td>\n",
       "      <td>1.00</td>\n",
       "      <td>0</td>\n",
       "    </tr>\n",
       "    <tr>\n",
       "      <th>1</th>\n",
       "      <td>1</td>\n",
       "      <td>0072A00001</td>\n",
       "      <td>안성열581125</td>\n",
       "      <td>경기</td>\n",
       "      <td>0.208283</td>\n",
       "      <td>0.491725</td>\n",
       "      <td>0.000000</td>\n",
       "      <td>더피플라이프</td>\n",
       "      <td>0.008333</td>\n",
       "      <td>0</td>\n",
       "      <td>0.414141</td>\n",
       "      <td>1.00</td>\n",
       "      <td>2</td>\n",
       "    </tr>\n",
       "    <tr>\n",
       "      <th>2</th>\n",
       "      <td>2</td>\n",
       "      <td>0072A00002</td>\n",
       "      <td>배준택831121</td>\n",
       "      <td>부산</td>\n",
       "      <td>0.208283</td>\n",
       "      <td>0.334324</td>\n",
       "      <td>0.000000</td>\n",
       "      <td>더피플라이프</td>\n",
       "      <td>0.275000</td>\n",
       "      <td>0</td>\n",
       "      <td>0.161616</td>\n",
       "      <td>0.68</td>\n",
       "      <td>3</td>\n",
       "    </tr>\n",
       "    <tr>\n",
       "      <th>3</th>\n",
       "      <td>3</td>\n",
       "      <td>0072A00003</td>\n",
       "      <td>배민규821023</td>\n",
       "      <td>울산</td>\n",
       "      <td>0.208283</td>\n",
       "      <td>0.491725</td>\n",
       "      <td>0.000000</td>\n",
       "      <td>더피플라이프</td>\n",
       "      <td>0.008333</td>\n",
       "      <td>0</td>\n",
       "      <td>0.171717</td>\n",
       "      <td>1.00</td>\n",
       "      <td>2</td>\n",
       "    </tr>\n",
       "    <tr>\n",
       "      <th>4</th>\n",
       "      <td>4</td>\n",
       "      <td>0072A00006</td>\n",
       "      <td>최금순340728</td>\n",
       "      <td>경기</td>\n",
       "      <td>0.208283</td>\n",
       "      <td>0.491725</td>\n",
       "      <td>0.000000</td>\n",
       "      <td>더피플라이프</td>\n",
       "      <td>0.008333</td>\n",
       "      <td>1</td>\n",
       "      <td>0.656566</td>\n",
       "      <td>1.00</td>\n",
       "      <td>2</td>\n",
       "    </tr>\n",
       "  </tbody>\n",
       "</table>\n",
       "</div>"
      ],
      "text/plain": [
       "   Unnamed: 0        회원번호       회원이름  주소      상품금액      총불입액      해약금액  \\\n",
       "0           0  0022A00001  이옥성590318  경기  0.208283  0.491725  0.501548   \n",
       "1           1  0072A00001  안성열581125  경기  0.208283  0.491725  0.000000   \n",
       "2           2  0072A00002  배준택831121  부산  0.208283  0.334324  0.000000   \n",
       "3           3  0072A00003  배민규821023  울산  0.208283  0.491725  0.000000   \n",
       "4           4  0072A00006  최금순340728  경기  0.208283  0.491725  0.000000   \n",
       "\n",
       "      담당자      연체횟수  성별        나이   진행률  상태  \n",
       "0  더피플라이프  0.008333   0  0.404040  1.00   0  \n",
       "1  더피플라이프  0.008333   0  0.414141  1.00   2  \n",
       "2  더피플라이프  0.275000   0  0.161616  0.68   3  \n",
       "3  더피플라이프  0.008333   0  0.171717  1.00   2  \n",
       "4  더피플라이프  0.008333   1  0.656566  1.00   2  "
      ]
     },
     "execution_count": 2,
     "metadata": {},
     "output_type": "execute_result"
    }
   ],
   "source": [
    "df = pd.read_csv('normalization_minmax.csv')\n",
    "df.head(5)"
   ]
  },
  {
   "cell_type": "code",
   "execution_count": 3,
   "metadata": {},
   "outputs": [],
   "source": [
    "df=df[['상품금액','총불입액','해약금액','연체횟수','성별','나이','진행률','상태']]"
   ]
  },
  {
   "cell_type": "code",
   "execution_count": 4,
   "metadata": {},
   "outputs": [
    {
     "data": {
      "text/html": [
       "<div>\n",
       "<style scoped>\n",
       "    .dataframe tbody tr th:only-of-type {\n",
       "        vertical-align: middle;\n",
       "    }\n",
       "\n",
       "    .dataframe tbody tr th {\n",
       "        vertical-align: top;\n",
       "    }\n",
       "\n",
       "    .dataframe thead th {\n",
       "        text-align: right;\n",
       "    }\n",
       "</style>\n",
       "<table border=\"1\" class=\"dataframe\">\n",
       "  <thead>\n",
       "    <tr style=\"text-align: right;\">\n",
       "      <th></th>\n",
       "      <th>상품금액</th>\n",
       "      <th>총불입액</th>\n",
       "      <th>해약금액</th>\n",
       "      <th>연체횟수</th>\n",
       "      <th>성별</th>\n",
       "      <th>나이</th>\n",
       "      <th>진행률</th>\n",
       "    </tr>\n",
       "  </thead>\n",
       "  <tbody>\n",
       "    <tr>\n",
       "      <th>0</th>\n",
       "      <td>0.208283</td>\n",
       "      <td>0.491725</td>\n",
       "      <td>0.501548</td>\n",
       "      <td>0.008333</td>\n",
       "      <td>0</td>\n",
       "      <td>0.404040</td>\n",
       "      <td>1.00</td>\n",
       "    </tr>\n",
       "    <tr>\n",
       "      <th>1</th>\n",
       "      <td>0.208283</td>\n",
       "      <td>0.491725</td>\n",
       "      <td>0.000000</td>\n",
       "      <td>0.008333</td>\n",
       "      <td>0</td>\n",
       "      <td>0.414141</td>\n",
       "      <td>1.00</td>\n",
       "    </tr>\n",
       "    <tr>\n",
       "      <th>2</th>\n",
       "      <td>0.208283</td>\n",
       "      <td>0.334324</td>\n",
       "      <td>0.000000</td>\n",
       "      <td>0.275000</td>\n",
       "      <td>0</td>\n",
       "      <td>0.161616</td>\n",
       "      <td>0.68</td>\n",
       "    </tr>\n",
       "  </tbody>\n",
       "</table>\n",
       "</div>"
      ],
      "text/plain": [
       "       상품금액      총불입액      해약금액      연체횟수  성별        나이   진행률\n",
       "0  0.208283  0.491725  0.501548  0.008333   0  0.404040  1.00\n",
       "1  0.208283  0.491725  0.000000  0.008333   0  0.414141  1.00\n",
       "2  0.208283  0.334324  0.000000  0.275000   0  0.161616  0.68"
      ]
     },
     "execution_count": 4,
     "metadata": {},
     "output_type": "execute_result"
    }
   ],
   "source": [
    "from sklearn.ensemble import RandomForestClassifier\n",
    "\n",
    "rf = df[['상품금액','총불입액','해약금액','연체횟수','성별','나이','진행률']]\n",
    "rf.data = rf.values.tolist()\n",
    "rf.target = df[['상태']]\n",
    "rf.feature_names=['price','total_payed_price','canceld_price','delay_pay_num','sex','age','p_rate']\n",
    "rf.target_names=['final_cancel','cancel','event','signup','final']\n",
    "rf.head(3)\n"
   ]
  },
  {
   "cell_type": "code",
   "execution_count": 5,
   "metadata": {},
   "outputs": [
    {
     "name": "stdout",
     "output_type": "stream",
     "text": [
      "랜덤 포레스트 정확도: 0.9430\n"
     ]
    }
   ],
   "source": [
    "X_train , X_test , y_train , y_test = train_test_split(rf.data, rf.target, test_size=0.3,  random_state=33)\n",
    "rnd_clf = RandomForestClassifier(n_estimators=250, max_depth=9 , n_jobs=-1, random_state=0)\n",
    "rnd_clf.fit(X_train, y_train)\n",
    "y_pred_rf = rnd_clf.predict(X_test)\n",
    "\n",
    "accuracy = accuracy_score(y_test , y_pred_rf)\n",
    "print('랜덤 포레스트 정확도: {0:.4f}'.format(accuracy))"
   ]
  },
  {
   "cell_type": "code",
   "execution_count": 6,
   "metadata": {},
   "outputs": [],
   "source": [
    "from sklearn.metrics import accuracy_score, precision_score , recall_score , confusion_matrix\n",
    "from sklearn.metrics import f1_score \n",
    "\n",
    "def get_clf_eval(y_test , pred):\n",
    "    confusion = confusion_matrix( y_test, pred)\n",
    "    accuracy = accuracy_score(y_test , pred)\n",
    "    precision = precision_score(y_test , pred,average='macro')\n",
    "    recall = recall_score(y_test , pred, average='macro')\n",
    "    # F1 스코어 추가\n",
    "    f1 = f1_score(y_test,pred, average='macro')\n",
    "    print('오차 행렬')\n",
    "    print(confusion)\n",
    "    # f1 score print 추가\n",
    "    print('정확도: {0:.4f}, 정밀도: {1:.4f}, 재현율: {2:.4f}, F1:{3:.4f}'.format(accuracy, precision, recall, f1))"
   ]
  },
  {
   "cell_type": "code",
   "execution_count": 9,
   "metadata": {},
   "outputs": [
    {
     "name": "stdout",
     "output_type": "stream",
     "text": [
      "오차 행렬\n",
      "[[ 1124     0     0     0     0]\n",
      " [    0 24685     0   744     0]\n",
      " [    0     0  1240     7  1618]\n",
      " [    0   927     0 30968     0]\n",
      " [    0    19   363     0  2834]]\n",
      "정확도: 0.9430, 정밀도: 0.8699, 재현율: 0.8511, F1:0.8470\n"
     ]
    },
    {
     "data": {
      "text/plain": [
       "array([1, 1, 1, ..., 3, 1, 1], dtype=int64)"
      ]
     },
     "execution_count": 9,
     "metadata": {},
     "output_type": "execute_result"
    }
   ],
   "source": [
    "get_clf_eval(y_test,y_pred_rf )\n",
    "y_pred_rf "
   ]
  },
  {
   "cell_type": "code",
   "execution_count": 12,
   "metadata": {},
   "outputs": [
    {
     "data": {
      "image/png": "[encoded data removed]",
      "text/plain": [
       "<Figure size 576x432 with 1 Axes>"
      ]
     },
     "metadata": {
      "needs_background": "light"
     },
     "output_type": "display_data"
    }
   ],
   "source": [
    "import seaborn as sns\n",
    "\n",
    "ftr_importances_values = rnd_clf.feature_importances_\n",
    "ftr_importances = pd.Series(ftr_importances_values,index=rf.feature_names)\n",
    "ftr_top20 = ftr_importances.sort_values(ascending=False)[:7]\n",
    "\n",
    "plt.figure(figsize=(8,6))\n",
    "plt.title('RandomForest Classifier Feature Weight')\n",
    "sns.barplot(x=ftr_top20 , y = ftr_top20.index)\n",
    "plt.show()"
   ]
  },
  {
   "cell_type": "code",
   "execution_count": null,
   "metadata": {},
   "outputs": [],
   "source": []
  }
 ],
 "metadata": {
  "kernelspec": {
   "display_name": "Python 3.7.6 64-bit",
   "language": "python",
   "name": "python37664bita0d197446af548d297078fa389966929"
  },
  "language_info": {
   "codemirror_mode": {
    "name": "ipython",
    "version": 3
   },
   "file_extension": ".py",
   "mimetype": "text/x-python",
   "name": "python",
   "nbconvert_exporter": "python",
   "pygments_lexer": "ipython3",
   "version": "3.7.6"
  }
 },
 "nbformat": 4,
 "nbformat_minor": 4
}
