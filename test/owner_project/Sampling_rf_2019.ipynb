{
 "cells": [
  {
   "cell_type": "code",
   "execution_count": 1,
   "metadata": {},
   "outputs": [],
   "source": [
    "from sklearn.tree import DecisionTreeClassifier\n",
    "from sklearn.model_selection import train_test_split\n",
    "import pandas as pd\n",
    "from sklearn.metrics import accuracy_score\n",
    "import sklearn\n",
    "import numpy as np\n",
    "import matplotlib.pyplot as plt\n",
    "%matplotlib inline\n",
    "df = pd.read_csv('normalization_zscore2019.csv')\n"
   ]
  },
  {
   "cell_type": "code",
   "execution_count": 37,
   "metadata": {},
   "outputs": [],
   "source": [
    "df18 = pd.read_csv('normalization_zscore2018.csv')"
   ]
  },
  {
   "cell_type": "code",
   "execution_count": 2,
   "metadata": {},
   "outputs": [],
   "source": [
    "# 근데 신규 가입자들은 해약을 거의 안하지 않나..?\n",
    "# 신규 가입자 데이터만 가지고 예측을 하면 안될거 같음..\n",
    "\n",
    "from imblearn.under_sampling import *\n",
    "# 이상치 제거 df = df[df['123'].between(-2,2)]"
   ]
  },
  {
   "cell_type": "code",
   "execution_count": 3,
   "metadata": {},
   "outputs": [
    {
     "data": {
      "text/plain": [
       "3    181605\n",
       "1    118176\n",
       "4     10750\n",
       "2     10364\n",
       "0      5145\n",
       "Name: 상태, dtype: int64"
      ]
     },
     "execution_count": 3,
     "metadata": {},
     "output_type": "execute_result"
    }
   ],
   "source": [
    "df['상태'].value_counts()\n",
    "# 3: 가입, 1: 해약, 4: 만기, 2: 행사, 0: 만기_해약"
   ]
  },
  {
   "cell_type": "code",
   "execution_count": 4,
   "metadata": {},
   "outputs": [],
   "source": [
    "# 만기랑 행사도 정상가입자로 볼수 있지 않을까..? 그러면 해약 vs 정상 가입 으로 분류가 가능하고 데이터 분포도 얼추 비슷함..\n",
    "# 가입: 0  / 해약 : 1\n",
    "def labeling(status):\n",
    "    if status == 0:\n",
    "        return 1\n",
    "    elif status == 1: # = 1\n",
    "        return 1\n",
    "    elif status == 2: # = 2\n",
    "        return 0\n",
    "    elif status == 3: # = 3\n",
    "        return 0\n",
    "    else: # 만기 = 4\n",
    "        return 0"
   ]
  },
  {
   "cell_type": "code",
   "execution_count": 5,
   "metadata": {},
   "outputs": [],
   "source": [
    "df['상태'] = df['상태'].apply(lambda x : labeling(x))"
   ]
  },
  {
   "cell_type": "code",
   "execution_count": 38,
   "metadata": {},
   "outputs": [],
   "source": [
    "df18['상태'] = df18['상태'].apply(lambda x : labeling(x))"
   ]
  },
  {
   "cell_type": "code",
   "execution_count": 6,
   "metadata": {},
   "outputs": [
    {
     "data": {
      "text/plain": [
       "0    202719\n",
       "1    123321\n",
       "Name: 상태, dtype: int64"
      ]
     },
     "execution_count": 6,
     "metadata": {},
     "output_type": "execute_result"
    }
   ],
   "source": [
    "df['상태'].value_counts()"
   ]
  },
  {
   "cell_type": "code",
   "execution_count": 39,
   "metadata": {},
   "outputs": [
    {
     "data": {
      "text/plain": [
       "0    126806\n",
       "1     88288\n",
       "Name: 상태, dtype: int64"
      ]
     },
     "execution_count": 39,
     "metadata": {},
     "output_type": "execute_result"
    }
   ],
   "source": [
    "df18['상태'].value_counts()"
   ]
  },
  {
   "cell_type": "code",
   "execution_count": 7,
   "metadata": {},
   "outputs": [],
   "source": [
    "# 랜덤 언더 샘플링으로 두 Label 갯수를 똑같이 맞춰줌\n",
    "df0 = df[df['상태']==0].sample(n=123321)\n",
    "df1 = df[df['상태']==1]"
   ]
  },
  {
   "cell_type": "code",
   "execution_count": 40,
   "metadata": {},
   "outputs": [],
   "source": [
    "# 랜덤 언더 샘플링으로 두 Label 갯수를 똑같이 맞춰줌\n",
    "df018 = df18[df18['상태']==0].sample(n=88288)\n",
    "df118 = df18[df18['상태']==1]"
   ]
  },
  {
   "cell_type": "code",
   "execution_count": 8,
   "metadata": {},
   "outputs": [],
   "source": [
    "data = pd.concat([df0, df1])"
   ]
  },
  {
   "cell_type": "code",
   "execution_count": 41,
   "metadata": {},
   "outputs": [],
   "source": [
    "data18 = pd.concat([df018, df118])"
   ]
  },
  {
   "cell_type": "code",
   "execution_count": 9,
   "metadata": {},
   "outputs": [
    {
     "data": {
      "text/plain": [
       "1    123321\n",
       "0    123321\n",
       "Name: 상태, dtype: int64"
      ]
     },
     "execution_count": 9,
     "metadata": {},
     "output_type": "execute_result"
    }
   ],
   "source": [
    "data['상태'].value_counts()"
   ]
  },
  {
   "cell_type": "code",
   "execution_count": 42,
   "metadata": {},
   "outputs": [
    {
     "data": {
      "text/plain": [
       "1    88288\n",
       "0    88288\n",
       "Name: 상태, dtype: int64"
      ]
     },
     "execution_count": 42,
     "metadata": {},
     "output_type": "execute_result"
    }
   ],
   "source": [
    "data18['상태'].value_counts()"
   ]
  },
  {
   "cell_type": "code",
   "execution_count": 36,
   "metadata": {},
   "outputs": [
    {
     "data": {
      "text/plain": [
       "1    40033\n",
       "0    39967\n",
       "Name: 상태, dtype: int64"
      ]
     },
     "execution_count": 36,
     "metadata": {},
     "output_type": "execute_result"
    }
   ],
   "source": [
    "df2019=data.sample(n=80000)\n",
    "df2019['상태'].value_counts()"
   ]
  },
  {
   "cell_type": "code",
   "execution_count": 43,
   "metadata": {},
   "outputs": [
    {
     "data": {
      "text/plain": [
       "0    40151\n",
       "1    39849\n",
       "Name: 상태, dtype: int64"
      ]
     },
     "execution_count": 43,
     "metadata": {},
     "output_type": "execute_result"
    }
   ],
   "source": [
    "df2018=data.sample(n=80000)\n",
    "df2018['상태'].value_counts()"
   ]
  },
  {
   "cell_type": "code",
   "execution_count": 44,
   "metadata": {},
   "outputs": [],
   "source": [
    "df2019.to_csv('under_sampling2019.csv')\n",
    "df2018.to_csv('under_sampling2018.csv')"
   ]
  },
  {
   "cell_type": "code",
   "execution_count": 12,
   "metadata": {},
   "outputs": [
    {
     "data": {
      "text/html": [
       "<div>\n",
       "<style scoped>\n",
       "    .dataframe tbody tr th:only-of-type {\n",
       "        vertical-align: middle;\n",
       "    }\n",
       "\n",
       "    .dataframe tbody tr th {\n",
       "        vertical-align: top;\n",
       "    }\n",
       "\n",
       "    .dataframe thead th {\n",
       "        text-align: right;\n",
       "    }\n",
       "</style>\n",
       "<table border=\"1\" class=\"dataframe\">\n",
       "  <thead>\n",
       "    <tr style=\"text-align: right;\">\n",
       "      <th></th>\n",
       "      <th>성별</th>\n",
       "      <th>나이</th>\n",
       "      <th>진행률</th>\n",
       "      <th>상품금액</th>\n",
       "      <th>잔여금액</th>\n",
       "      <th>연체횟수</th>\n",
       "      <th>가입기간</th>\n",
       "    </tr>\n",
       "  </thead>\n",
       "  <tbody>\n",
       "    <tr>\n",
       "      <th>205546</th>\n",
       "      <td>1</td>\n",
       "      <td>-0.953312</td>\n",
       "      <td>0.004000</td>\n",
       "      <td>1.48627</td>\n",
       "      <td>1.122658</td>\n",
       "      <td>-0.634846</td>\n",
       "      <td>-0.853229</td>\n",
       "    </tr>\n",
       "    <tr>\n",
       "      <th>192772</th>\n",
       "      <td>1</td>\n",
       "      <td>-0.109620</td>\n",
       "      <td>0.007692</td>\n",
       "      <td>0.65588</td>\n",
       "      <td>0.729600</td>\n",
       "      <td>-0.601494</td>\n",
       "      <td>-0.842853</td>\n",
       "    </tr>\n",
       "    <tr>\n",
       "      <th>153788</th>\n",
       "      <td>1</td>\n",
       "      <td>-0.672081</td>\n",
       "      <td>0.092308</td>\n",
       "      <td>0.65588</td>\n",
       "      <td>0.517656</td>\n",
       "      <td>-0.634846</td>\n",
       "      <td>-0.513922</td>\n",
       "    </tr>\n",
       "  </tbody>\n",
       "</table>\n",
       "</div>"
      ],
      "text/plain": [
       "        성별        나이       진행률     상품금액      잔여금액      연체횟수      가입기간\n",
       "205546   1 -0.953312  0.004000  1.48627  1.122658 -0.634846 -0.853229\n",
       "192772   1 -0.109620  0.007692  0.65588  0.729600 -0.601494 -0.842853\n",
       "153788   1 -0.672081  0.092308  0.65588  0.517656 -0.634846 -0.513922"
      ]
     },
     "execution_count": 12,
     "metadata": {},
     "output_type": "execute_result"
    }
   ],
   "source": [
    "from sklearn.ensemble import RandomForestClassifier\n",
    "\n",
    "rf = data[['성별', '나이', '진행률', '상품금액', '잔여금액', '연체횟수', '가입기간']]\n",
    "rf.data = rf.values.tolist()\n",
    "rf.target = data[['상태']]\n",
    "\n"
   ]
  },
  {
   "cell_type": "code",
   "execution_count": 48,
   "metadata": {},
   "outputs": [],
   "source": [
    "X_train = df2018[['성별', '나이', '진행률', '상품금액', '잔여금액', '연체횟수', '가입기간']]\n",
    "X_test = df2019[['성별', '나이', '진행률', '상품금액', '잔여금액', '연체횟수', '가입기간']]\n",
    "y_train = df2018[['상태']]\n",
    "y_test = df2019[['상태']]\n"
   ]
  },
  {
   "cell_type": "code",
   "execution_count": 52,
   "metadata": {},
   "outputs": [
    {
     "ename": "NameError",
     "evalue": "name 'rf' is not defined",
     "output_type": "error",
     "traceback": [
      "\u001b[1;31m---------------------------------------------------------------------------\u001b[0m",
      "\u001b[1;31mNameError\u001b[0m                                 Traceback (most recent call last)",
      "\u001b[1;32m<ipython-input-52-113e7bd0dd3d>\u001b[0m in \u001b[0;36m<module>\u001b[1;34m\u001b[0m\n\u001b[1;32m----> 1\u001b[1;33m \u001b[0mrf\u001b[0m\u001b[1;33m.\u001b[0m\u001b[0mfeature_names\u001b[0m\u001b[1;33m=\u001b[0m\u001b[1;33m[\u001b[0m\u001b[1;34m'sex'\u001b[0m\u001b[1;33m,\u001b[0m\u001b[1;34m'age'\u001b[0m\u001b[1;33m,\u001b[0m\u001b[1;34m'process_rate'\u001b[0m\u001b[1;33m,\u001b[0m\u001b[1;34m'price'\u001b[0m\u001b[1;33m,\u001b[0m\u001b[1;34m'remaining_price'\u001b[0m\u001b[1;33m,\u001b[0m\u001b[1;34m'overdue_num'\u001b[0m\u001b[1;33m,\u001b[0m\u001b[1;34m'period'\u001b[0m\u001b[1;33m]\u001b[0m\u001b[1;33m\u001b[0m\u001b[1;33m\u001b[0m\u001b[0m\n\u001b[0m\u001b[0;32m      2\u001b[0m \u001b[0mrf\u001b[0m\u001b[1;33m.\u001b[0m\u001b[0mtarget_names\u001b[0m\u001b[1;33m=\u001b[0m\u001b[1;33m[\u001b[0m\u001b[1;34m'contract'\u001b[0m\u001b[1;33m,\u001b[0m\u001b[1;34m'cancellation'\u001b[0m\u001b[1;33m]\u001b[0m\u001b[1;33m\u001b[0m\u001b[1;33m\u001b[0m\u001b[0m\n\u001b[0;32m      3\u001b[0m \u001b[0mrf\u001b[0m\u001b[1;33m.\u001b[0m\u001b[0mhead\u001b[0m\u001b[1;33m(\u001b[0m\u001b[1;36m3\u001b[0m\u001b[1;33m)\u001b[0m\u001b[1;33m\u001b[0m\u001b[1;33m\u001b[0m\u001b[0m\n",
      "\u001b[1;31mNameError\u001b[0m: name 'rf' is not defined"
     ]
    }
   ],
   "source": [
    "rf.feature_names=['sex','age','process_rate','price','remaining_price','overdue_num','period']\n",
    "rf.target_names=['contract','cancellation']\n",
    "rf.head(3)"
   ]
  },
  {
   "cell_type": "code",
   "execution_count": 49,
   "metadata": {},
   "outputs": [
    {
     "name": "stdout",
     "output_type": "stream",
     "text": [
      "랜덤 포레스트 정확도: 0.9778\n"
     ]
    }
   ],
   "source": [
    "from sklearn.ensemble import RandomForestClassifier\n",
    "\n",
    "#X_train , X_test , y_train , y_test = train_test_split(rf.data, rf.target, test_size=0.3,  random_state=33)\n",
    "rnd_clf = RandomForestClassifier(n_estimators=250, max_depth=9 , n_jobs=-1, random_state=0)\n",
    "rnd_clf.fit(X_train, y_train)\n",
    "y_pred_rf = rnd_clf.predict(X_test)\n",
    "\n",
    "accuracy = accuracy_score(y_test , y_pred_rf)\n",
    "print('랜덤 포레스트 정확도: {0:.4f}'.format(accuracy))"
   ]
  },
  {
   "cell_type": "code",
   "execution_count": 50,
   "metadata": {},
   "outputs": [],
   "source": [
    "from sklearn.metrics import accuracy_score, precision_score , recall_score , confusion_matrix\n",
    "from sklearn.metrics import f1_score \n",
    "\n",
    "def get_clf_eval(y_test , pred):\n",
    "    confusion = confusion_matrix( y_test, pred)\n",
    "    accuracy = accuracy_score(y_test , pred)\n",
    "    precision = precision_score(y_test , pred,average='macro')\n",
    "    recall = recall_score(y_test , pred, average='macro')\n",
    "    # F1 스코어 추가\n",
    "    f1 = f1_score(y_test,pred, average='macro')\n",
    "    print('오차 행렬')\n",
    "    print(confusion)\n",
    "    # f1 score print 추가\n",
    "    print('정확도: {0:.4f}, 정밀도: {1:.4f}, 재현율: {2:.4f}, F1:{3:.4f}'.format(accuracy, precision, recall, f1))"
   ]
  },
  {
   "cell_type": "code",
   "execution_count": 51,
   "metadata": {},
   "outputs": [
    {
     "name": "stdout",
     "output_type": "stream",
     "text": [
      "오차 행렬\n",
      "[[38698  1269]\n",
      " [  508 39525]]\n",
      "정확도: 0.9778, 정밀도: 0.9780, 재현율: 0.9778, F1:0.9778\n"
     ]
    },
    {
     "data": {
      "text/plain": [
       "array([0, 0, 1, ..., 0, 0, 0], dtype=int64)"
      ]
     },
     "execution_count": 51,
     "metadata": {},
     "output_type": "execute_result"
    }
   ],
   "source": [
    "get_clf_eval(y_test,y_pred_rf )\n",
    "y_pred_rf "
   ]
  },
  {
   "cell_type": "code",
   "execution_count": 53,
   "metadata": {},
   "outputs": [
    {
     "data": {
      "image/png": "[encoded data removed]",
      "text/plain": [
       "<Figure size 576x432 with 1 Axes>"
      ]
     },
     "metadata": {
      "needs_background": "light"
     },
     "output_type": "display_data"
    }
   ],
   "source": [
    "import seaborn as sns\n",
    "feature_names=['sex','age','process_rate','price','remaining_price','overdue_num','period']\n",
    "ftr_importances_values = rnd_clf.feature_importances_\n",
    "ftr_importances = pd.Series(ftr_importances_values,index=feature_names)\n",
    "ftr_top20 = ftr_importances.sort_values(ascending=False)[:7]\n",
    "\n",
    "plt.figure(figsize=(8,6))\n",
    "plt.title('RandomForest Classifier Feature Weight')\n",
    "sns.barplot(x=ftr_top20 , y = ftr_top20.index)\n",
    "plt.show()"
   ]
  },
  {
   "cell_type": "code",
   "execution_count": null,
   "metadata": {},
   "outputs": [],
   "source": []
  }
 ],
 "metadata": {
  "kernelspec": {
   "display_name": "Python 3.7.6 64-bit",
   "language": "python",
   "name": "python37664bita0d197446af548d297078fa389966929"
  },
  "language_info": {
   "codemirror_mode": {
    "name": "ipython",
    "version": 3
   },
   "file_extension": ".py",
   "mimetype": "text/x-python",
   "name": "python",
   "nbconvert_exporter": "python",
   "pygments_lexer": "ipython3",
   "version": "3.7.6"
  }
 },
 "nbformat": 4,
 "nbformat_minor": 4
}
